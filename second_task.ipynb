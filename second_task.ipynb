{
 "cells": [
  {
   "cell_type": "code",
   "execution_count": 1,
   "id": "a42cf855",
   "metadata": {},
   "outputs": [],
   "source": [
    "import cobra"
   ]
  },
  {
   "cell_type": "code",
   "execution_count": 2,
   "id": "46b57498",
   "metadata": {},
   "outputs": [],
   "source": [
    "from cobra import Model ,Reaction , Metabolite "
   ]
  },
  {
   "cell_type": "code",
   "execution_count": 3,
   "id": "7db3d84d",
   "metadata": {},
   "outputs": [],
   "source": [
    "#### Model####\n",
    "model= Model(\"model\")"
   ]
  },
  {
   "cell_type": "code",
   "execution_count": 4,
   "id": "db395d13",
   "metadata": {},
   "outputs": [],
   "source": [
    "############################## Reactions\n",
    "###### reaction  (=========>glc) v0\n",
    "v0=Reaction(\"v0\")\n",
    "v0.name=\"v0\"\n",
    "v0.lower_bound=1\n",
    "v0.upper_bound=1\n",
    "\n",
    "\n",
    "\n",
    "###### reaction  (glc=========>AA) v1\n",
    "v1=Reaction(\"v1\")\n",
    "v1.name=\"v1\"\n",
    "v1.lower_bound=0\n",
    "v1.upper_bound=1000\n",
    "\n",
    "\n",
    "\n",
    "###### reaction  (AA=========>Biomass) v2\n",
    "v2=Reaction(\"v2\")\n",
    "v2.name=\"v2\"\n",
    "v2.lower_bound=0\n",
    "v2.upper_bound=1000\n",
    "\n",
    "\n",
    "\n",
    "###### reaction  (=========>Biomass) v_out\n",
    "v_out=Reaction(\"v_out\")\n",
    "v_out.name=\"v_out\"\n",
    "v_out.lower_bound=0\n",
    "v_out.upper_bound=1000"
   ]
  },
  {
   "cell_type": "code",
   "execution_count": 5,
   "id": "d11ca525",
   "metadata": {},
   "outputs": [],
   "source": [
    "######################################### Metabolite\n",
    "glc=Metabolite('glc',compartment=\"c\")\n",
    "AA=Metabolite('AA',compartment=\"c\")\n",
    "Biomass=Metabolite('Biomass',compartment=\"c\")"
   ]
  },
  {
   "cell_type": "code",
   "execution_count": 8,
   "id": "e87f8198",
   "metadata": {},
   "outputs": [],
   "source": [
    "######################################### add metabolite in reactions\n",
    "v0.add_metabolites({glc:1})\n",
    "v1.add_metabolites({AA:1,glc:-1})\n",
    "v2.add_metabolites({Biomass:1,AA:-9.09})\n",
    "v_out.add_metabolites({Biomass:-1})"
   ]
  },
  {
   "cell_type": "code",
   "execution_count": 9,
   "id": "b1aa0424",
   "metadata": {},
   "outputs": [
    {
     "name": "stderr",
     "output_type": "stream",
     "text": [
      "Ignoring reaction 'v0' since it already exists.\n",
      "Ignoring reaction 'v1' since it already exists.\n",
      "Ignoring reaction 'v2' since it already exists.\n",
      "Ignoring reaction 'v_out' since it already exists.\n"
     ]
    }
   ],
   "source": [
    "####################################### add reactions in model\n",
    "model.add_reactions([v0,v1,v2,v_out])"
   ]
  },
  {
   "cell_type": "code",
   "execution_count": 10,
   "id": "394d6862",
   "metadata": {},
   "outputs": [],
   "source": [
    "model.objective='v_out'"
   ]
  },
  {
   "cell_type": "code",
   "execution_count": 11,
   "id": "d88b69cd",
   "metadata": {},
   "outputs": [
    {
     "data": {
      "text/html": [
       "<strong><em>Optimal</em> solution with objective value 0.110</strong><br><div>\n",
       "<style scoped>\n",
       "    .dataframe tbody tr th:only-of-type {\n",
       "        vertical-align: middle;\n",
       "    }\n",
       "\n",
       "    .dataframe tbody tr th {\n",
       "        vertical-align: top;\n",
       "    }\n",
       "\n",
       "    .dataframe thead th {\n",
       "        text-align: right;\n",
       "    }\n",
       "</style>\n",
       "<table border=\"1\" class=\"dataframe\">\n",
       "  <thead>\n",
       "    <tr style=\"text-align: right;\">\n",
       "      <th></th>\n",
       "      <th>fluxes</th>\n",
       "      <th>reduced_costs</th>\n",
       "    </tr>\n",
       "  </thead>\n",
       "  <tbody>\n",
       "    <tr>\n",
       "      <th>v0</th>\n",
       "      <td>1.000000</td>\n",
       "      <td>0.220022</td>\n",
       "    </tr>\n",
       "    <tr>\n",
       "      <th>v1</th>\n",
       "      <td>1.000000</td>\n",
       "      <td>0.000000</td>\n",
       "    </tr>\n",
       "    <tr>\n",
       "      <th>v2</th>\n",
       "      <td>0.110011</td>\n",
       "      <td>0.000000</td>\n",
       "    </tr>\n",
       "    <tr>\n",
       "      <th>v_out</th>\n",
       "      <td>0.110011</td>\n",
       "      <td>0.000000</td>\n",
       "    </tr>\n",
       "  </tbody>\n",
       "</table>\n",
       "</div>"
      ],
      "text/plain": [
       "<Solution 0.110 at 0x2053fa20cd0>"
      ]
     },
     "execution_count": 11,
     "metadata": {},
     "output_type": "execute_result"
    }
   ],
   "source": [
    "model.optimize()"
   ]
  },
  {
   "cell_type": "code",
   "execution_count": 13,
   "id": "85c1d41a",
   "metadata": {},
   "outputs": [
    {
     "data": {
      "text/html": [
       "<h3>Objective</h3><p>1.0 v_out = 0.11001100110011001</p><h4>Uptake</h4><table border=\"1\" class=\"dataframe\">\n",
       "  <thead>\n",
       "    <tr style=\"text-align: right;\">\n",
       "      <th>Metabolite</th>\n",
       "      <th>Reaction</th>\n",
       "      <th>Flux</th>\n",
       "      <th>C-Number</th>\n",
       "      <th>C-Flux</th>\n",
       "    </tr>\n",
       "  </thead>\n",
       "  <tbody>\n",
       "    <tr>\n",
       "      <td>glc</td>\n",
       "      <td>v0</td>\n",
       "      <td>1</td>\n",
       "      <td>0</td>\n",
       "      <td>0.00%</td>\n",
       "    </tr>\n",
       "  </tbody>\n",
       "</table><h4>Secretion</h4><table border=\"1\" class=\"dataframe\">\n",
       "  <thead>\n",
       "    <tr style=\"text-align: right;\">\n",
       "      <th>Metabolite</th>\n",
       "      <th>Reaction</th>\n",
       "      <th>Flux</th>\n",
       "      <th>C-Number</th>\n",
       "      <th>C-Flux</th>\n",
       "    </tr>\n",
       "  </thead>\n",
       "  <tbody>\n",
       "    <tr>\n",
       "      <td>Biomass</td>\n",
       "      <td>v_out</td>\n",
       "      <td>-0.11</td>\n",
       "      <td>0</td>\n",
       "      <td>0.00%</td>\n",
       "    </tr>\n",
       "  </tbody>\n",
       "</table>"
      ],
      "text/plain": [
       "<cobra.summary.model_summary.ModelSummary at 0x20546e58ca0>"
      ]
     },
     "execution_count": 13,
     "metadata": {},
     "output_type": "execute_result"
    }
   ],
   "source": [
    "model.summary()"
   ]
  },
  {
   "cell_type": "code",
   "execution_count": 14,
   "id": "0a67271d",
   "metadata": {},
   "outputs": [],
   "source": [
    "cobra.io.save_json_model(model,\"margritessam_2.json\")"
   ]
  },
  {
   "cell_type": "code",
   "execution_count": null,
   "id": "582a7668",
   "metadata": {},
   "outputs": [],
   "source": []
  },
  {
   "cell_type": "code",
   "execution_count": 15,
   "id": "18c74a69",
   "metadata": {},
   "outputs": [],
   "source": [
    "import escher"
   ]
  },
  {
   "cell_type": "code",
   "execution_count": 16,
   "id": "4691e8a9",
   "metadata": {},
   "outputs": [],
   "source": [
    "from escher import Builder"
   ]
  },
  {
   "cell_type": "code",
   "execution_count": 17,
   "id": "6560cedd",
   "metadata": {},
   "outputs": [],
   "source": [
    "builder=Builder()"
   ]
  },
  {
   "cell_type": "code",
   "execution_count": 18,
   "id": "ffc7d433",
   "metadata": {},
   "outputs": [
    {
     "data": {
      "application/vnd.jupyter.widget-view+json": {
       "model_id": "a99f5602b91a4b808e153ee6f6b42cc2",
       "version_major": 2,
       "version_minor": 0
      },
      "text/plain": [
       "Builder()"
      ]
     },
     "metadata": {},
     "output_type": "display_data"
    }
   ],
   "source": [
    "builder"
   ]
  },
  {
   "cell_type": "code",
   "execution_count": null,
   "id": "f07fcb4a",
   "metadata": {},
   "outputs": [],
   "source": []
  },
  {
   "cell_type": "code",
   "execution_count": null,
   "id": "196be8ba",
   "metadata": {},
   "outputs": [],
   "source": []
  }
 ],
 "metadata": {
  "kernelspec": {
   "display_name": "Python 3 (ipykernel)",
   "language": "python",
   "name": "python3"
  },
  "language_info": {
   "codemirror_mode": {
    "name": "ipython",
    "version": 3
   },
   "file_extension": ".py",
   "mimetype": "text/x-python",
   "name": "python",
   "nbconvert_exporter": "python",
   "pygments_lexer": "ipython3",
   "version": "3.9.7"
  }
 },
 "nbformat": 4,
 "nbformat_minor": 5
}
