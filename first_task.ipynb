{
 "cells": [
  {
   "cell_type": "code",
   "execution_count": 1,
   "id": "35852fca",
   "metadata": {},
   "outputs": [],
   "source": [
    "import cobra"
   ]
  },
  {
   "cell_type": "code",
   "execution_count": 2,
   "id": "467f5482",
   "metadata": {},
   "outputs": [],
   "source": [
    "from cobra import Model ,Reaction , Metabolite "
   ]
  },
  {
   "cell_type": "code",
   "execution_count": 3,
   "id": "48505191",
   "metadata": {},
   "outputs": [],
   "source": [
    "model1  = Model(\"model1\")"
   ]
  },
  {
   "cell_type": "code",
   "execution_count": 9,
   "id": "51f9f011",
   "metadata": {},
   "outputs": [],
   "source": [
    "#Reaction of     (A========>)\n",
    "v0 = Reaction (\"v0\")\n",
    "v0.name=\"v0\"\n",
    "v0.lower_bound=1\n",
    "v0.upper_bound=1\n",
    "\n",
    "#Reaction between (A ========> B)\n",
    "v1 = Reaction (\"v1\")\n",
    "v1.name=\"v1\"\n",
    "v1.lower_bound=0\n",
    "v1.upper_bound=1000\n",
    "\n",
    "#Reaction between (B ========>C)\n",
    "v2 = Reaction (\"v2\")\n",
    "v2.name=\"v2\"\n",
    "v2.lower_bound=0\n",
    "v2.upper_bound=1000\n",
    "\n",
    "#Reaction between (C ========>)\n",
    "v_out = Reaction (\"v_out\")\n",
    "v_out.name=\"v_out\"\n",
    "v_out.lower_bound=0\n",
    "v_out.upper_bound=1000\n",
    "\n",
    "#Reaction between (A ========>ATP)\n",
    "v3 = Reaction (\"v3\")\n",
    "v3.name=\"v3\"\n",
    "v3.lower_bound=.9\n",
    "v3.upper_bound=.9\n",
    "\n",
    "#Reaction between (ATP ========>)\n",
    "v4 = Reaction (\"v4\")\n",
    "v4.name=\"v4\"\n",
    "v4.lower_bound=0\n",
    "v4.upper_bound=1000"
   ]
  },
  {
   "cell_type": "code",
   "execution_count": 10,
   "id": "b2772803",
   "metadata": {},
   "outputs": [],
   "source": [
    "###################################################### Metabolites\n",
    "A=Metabolite(\"A\",compartment='C')\n",
    "B=Metabolite(\"B\",compartment='C')\n",
    "C=Metabolite(\"C\",compartment='C')\n",
    "ATP=Metabolite(\"ATP\",compartment='C')"
   ]
  },
  {
   "cell_type": "code",
   "execution_count": 11,
   "id": "ff9b1eba",
   "metadata": {},
   "outputs": [],
   "source": [
    "##################################################### add Metabolite in Reaction\n",
    "v0.add_metabolites({A:1})\n",
    "v1.add_metabolites({A:-1,B:1})\n",
    "v2.add_metabolites({B:-1,C:1})\n",
    "v_out.add_metabolites({C:-1})\n",
    "v3.add_metabolites({A:-1,ATP:1})\n",
    "v4.add_metabolites({ATP:-1})"
   ]
  },
  {
   "cell_type": "code",
   "execution_count": 12,
   "id": "58fd5ac5",
   "metadata": {},
   "outputs": [
    {
     "name": "stderr",
     "output_type": "stream",
     "text": [
      "Ignoring reaction 'v0' since it already exists.\n",
      "Ignoring reaction 'v1' since it already exists.\n",
      "Ignoring reaction 'v2' since it already exists.\n",
      "Ignoring reaction 'v_out' since it already exists.\n",
      "Ignoring reaction 'v3' since it already exists.\n",
      "Ignoring reaction 'v4' since it already exists.\n"
     ]
    }
   ],
   "source": [
    "####################################################  add Reaction in Model\n",
    "model1.add_reactions([v0,v1,v2,v_out,v3,v4])"
   ]
  },
  {
   "cell_type": "code",
   "execution_count": 13,
   "id": "5cb70cb5",
   "metadata": {},
   "outputs": [],
   "source": [
    "model1.objective='_out'"
   ]
  },
  {
   "cell_type": "code",
   "execution_count": 14,
   "id": "d086ef4d",
   "metadata": {},
   "outputs": [
    {
     "data": {
      "text/html": [
       "<strong><em>Optimal</em> solution with objective value 0.100</strong><br><div>\n",
       "<style scoped>\n",
       "    .dataframe tbody tr th:only-of-type {\n",
       "        vertical-align: middle;\n",
       "    }\n",
       "\n",
       "    .dataframe tbody tr th {\n",
       "        vertical-align: top;\n",
       "    }\n",
       "\n",
       "    .dataframe thead th {\n",
       "        text-align: right;\n",
       "    }\n",
       "</style>\n",
       "<table border=\"1\" class=\"dataframe\">\n",
       "  <thead>\n",
       "    <tr style=\"text-align: right;\">\n",
       "      <th></th>\n",
       "      <th>fluxes</th>\n",
       "      <th>reduced_costs</th>\n",
       "    </tr>\n",
       "  </thead>\n",
       "  <tbody>\n",
       "    <tr>\n",
       "      <th>v0</th>\n",
       "      <td>1.0</td>\n",
       "      <td>2.0</td>\n",
       "    </tr>\n",
       "    <tr>\n",
       "      <th>v1</th>\n",
       "      <td>0.1</td>\n",
       "      <td>0.0</td>\n",
       "    </tr>\n",
       "    <tr>\n",
       "      <th>v2</th>\n",
       "      <td>0.1</td>\n",
       "      <td>0.0</td>\n",
       "    </tr>\n",
       "    <tr>\n",
       "      <th>v_out</th>\n",
       "      <td>0.1</td>\n",
       "      <td>0.0</td>\n",
       "    </tr>\n",
       "    <tr>\n",
       "      <th>v3</th>\n",
       "      <td>0.9</td>\n",
       "      <td>-2.0</td>\n",
       "    </tr>\n",
       "    <tr>\n",
       "      <th>v4</th>\n",
       "      <td>0.9</td>\n",
       "      <td>0.0</td>\n",
       "    </tr>\n",
       "  </tbody>\n",
       "</table>\n",
       "</div>"
      ],
      "text/plain": [
       "<Solution 0.100 at 0x1e4fa112970>"
      ]
     },
     "execution_count": 14,
     "metadata": {},
     "output_type": "execute_result"
    }
   ],
   "source": [
    "model1.optimize()"
   ]
  },
  {
   "cell_type": "code",
   "execution_count": 15,
   "id": "5882fe5b",
   "metadata": {},
   "outputs": [
    {
     "data": {
      "text/html": [
       "<h3>Objective</h3><p>1.0 v_out = 0.09999999999999998</p><h4>Uptake</h4><table border=\"1\" class=\"dataframe\">\n",
       "  <thead>\n",
       "    <tr style=\"text-align: right;\">\n",
       "      <th>Metabolite</th>\n",
       "      <th>Reaction</th>\n",
       "      <th>Flux</th>\n",
       "      <th>C-Number</th>\n",
       "      <th>C-Flux</th>\n",
       "    </tr>\n",
       "  </thead>\n",
       "  <tbody>\n",
       "    <tr>\n",
       "      <td>A</td>\n",
       "      <td>v0</td>\n",
       "      <td>1</td>\n",
       "      <td>0</td>\n",
       "      <td>0.00%</td>\n",
       "    </tr>\n",
       "  </tbody>\n",
       "</table><h4>Secretion</h4><table border=\"1\" class=\"dataframe\">\n",
       "  <thead>\n",
       "    <tr style=\"text-align: right;\">\n",
       "      <th>Metabolite</th>\n",
       "      <th>Reaction</th>\n",
       "      <th>Flux</th>\n",
       "      <th>C-Number</th>\n",
       "      <th>C-Flux</th>\n",
       "    </tr>\n",
       "  </thead>\n",
       "  <tbody>\n",
       "    <tr>\n",
       "      <td>ATP</td>\n",
       "      <td>v4</td>\n",
       "      <td>-0.9</td>\n",
       "      <td>0</td>\n",
       "      <td>0.00%</td>\n",
       "    </tr>\n",
       "    <tr>\n",
       "      <td>C</td>\n",
       "      <td>v_out</td>\n",
       "      <td>-0.1</td>\n",
       "      <td>0</td>\n",
       "      <td>0.00%</td>\n",
       "    </tr>\n",
       "  </tbody>\n",
       "</table>"
      ],
      "text/plain": [
       "<cobra.summary.model_summary.ModelSummary at 0x1e4fa12f940>"
      ]
     },
     "execution_count": 15,
     "metadata": {},
     "output_type": "execute_result"
    }
   ],
   "source": [
    "model1.summary()"
   ]
  },
  {
   "cell_type": "code",
   "execution_count": 16,
   "id": "2a7cc9ca",
   "metadata": {},
   "outputs": [],
   "source": [
    "cobra.io.save_json_model(model1,\"margritessam_1.json\")"
   ]
  },
  {
   "cell_type": "code",
   "execution_count": 17,
   "id": "7aef1af3",
   "metadata": {},
   "outputs": [],
   "source": [
    "import escher"
   ]
  },
  {
   "cell_type": "code",
   "execution_count": 18,
   "id": "ae38c854",
   "metadata": {},
   "outputs": [],
   "source": [
    "from escher import Builder"
   ]
  },
  {
   "cell_type": "code",
   "execution_count": 19,
   "id": "8c870ccd",
   "metadata": {},
   "outputs": [],
   "source": [
    "builder=Builder()"
   ]
  },
  {
   "cell_type": "code",
   "execution_count": 20,
   "id": "d18a536d",
   "metadata": {},
   "outputs": [
    {
     "data": {
      "application/vnd.jupyter.widget-view+json": {
       "model_id": "dd55b2a94b3c4a7d9348ea5b269b2251",
       "version_major": 2,
       "version_minor": 0
      },
      "text/plain": [
       "Builder()"
      ]
     },
     "metadata": {},
     "output_type": "display_data"
    }
   ],
   "source": [
    "builder"
   ]
  },
  {
   "cell_type": "code",
   "execution_count": null,
   "id": "0f2ea3fb",
   "metadata": {},
   "outputs": [],
   "source": []
  }
 ],
 "metadata": {
  "kernelspec": {
   "display_name": "Python 3 (ipykernel)",
   "language": "python",
   "name": "python3"
  },
  "language_info": {
   "codemirror_mode": {
    "name": "ipython",
    "version": 3
   },
   "file_extension": ".py",
   "mimetype": "text/x-python",
   "name": "python",
   "nbconvert_exporter": "python",
   "pygments_lexer": "ipython3",
   "version": "3.9.7"
  }
 },
 "nbformat": 4,
 "nbformat_minor": 5
}
